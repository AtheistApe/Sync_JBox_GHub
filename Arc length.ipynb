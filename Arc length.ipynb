{
 "cells": [
  {
   "cell_type": "markdown",
   "metadata": {},
   "source": [
    "# Arc length of a vector valued function"
   ]
  },
  {
   "cell_type": "markdown",
   "metadata": {},
   "source": [
    "A vector valued function is a function $r: \\mathbb{R}\\rightarrow\\mathbb{R}^n$ which assign to each real number $t$ in $\\mathbb{R}$, $a\\leq t\\leq b$, a point (position vector) in $\\mathbb{R}^n$. If $f$ is continuous, we can interpret the image of $r$ as a continuous, unbroken curve in $\\mathbb{R}^n$.\n",
    "\n",
    "A function $r: \\mathbb{R}\\rightarrow \\mathbb{R}^3$ can be expressed as $r(t) = \\langle x(t), y(t), z(t)\\rangle$, where $x, y$ and $z$ are real functions of $t$ giving the components of the vector $r(t)$.\n",
    "\n",
    "The arclength of the curve for $a \\leq t \\leq b$ is given by the integral\n",
    "\n",
    "$$\\int_a^b |r'(t)|\\;dt$$\n",
    "\n",
    "where $$|r'(t)| = \\sqrt{x'(t)^2 + y'(t)^2 + z'(t)^2}$$\n",
    "\n",
    "is the magnitude of the velocity vector (the speed of the position vector $r(t)$)"
   ]
  },
  {
   "cell_type": "code",
   "execution_count": 1,
   "metadata": {
    "collapsed": false
   },
   "outputs": [
    {
     "data": {
      "text/plain": [
       "arclen (generic function with 1 method)"
      ]
     },
     "execution_count": 1,
     "metadata": {},
     "output_type": "execute_result"
    }
   ],
   "source": [
    "# Want a function which takes three function arguments x, y, z and returns\n",
    "# a function that takes three arguments ta, tb, dt.\n",
    "# The returned function returns the arclength of the curve parameterized by\n",
    "# x(t), y(t) and z(t) for times between ta and tb with time increment dt.\n",
    "\n",
    "function arclen(x::Function, y::Function, z::Function)\n",
    "    mag(v::Vector) = sqrt(sum(vi^2 for vi in v))\n",
    "    \n",
    "    function rt(t)\n",
    "        return [x(t), y(t), z(t)]\n",
    "    end\n",
    "    \n",
    "    function st(ta::Float64,tb::Float64,dt::Float64)\n",
    "        times = ta:dt:tb\n",
    "        length = sum(mag(rt(t) - rt(t-dt)) for t in times[2:end])\n",
    "        return length\n",
    "    end\n",
    "end"
   ]
  },
  {
   "cell_type": "code",
   "execution_count": 5,
   "metadata": {
    "collapsed": false
   },
   "outputs": [
    {
     "data": {
      "text/plain": [
       "(::st) (generic function with 1 method)"
      ]
     },
     "execution_count": 5,
     "metadata": {},
     "output_type": "execute_result"
    }
   ],
   "source": [
    "# s(t) is the line y = x\n",
    "\n",
    "s = arclen(t->t, t->t, t->0)"
   ]
  },
  {
   "cell_type": "code",
   "execution_count": 7,
   "metadata": {
    "collapsed": false
   },
   "outputs": [
    {
     "data": {
      "text/plain": [
       "1.4142135623730947"
      ]
     },
     "execution_count": 7,
     "metadata": {},
     "output_type": "execute_result"
    }
   ],
   "source": [
    "# The length of the line segment from (0,0) to (1,1). It should be\n",
    "# sqrt(2)\n",
    "\n",
    "s(0.0, 1.0, 0.1)"
   ]
  },
  {
   "cell_type": "code",
   "execution_count": null,
   "metadata": {
    "collapsed": true
   },
   "outputs": [],
   "source": []
  }
 ],
 "metadata": {
  "kernelspec": {
   "display_name": "Julia 0.5.0",
   "language": "julia",
   "name": "julia-0.5"
  },
  "language_info": {
   "file_extension": ".jl",
   "mimetype": "application/julia",
   "name": "julia",
   "version": "0.5.0"
  }
 },
 "nbformat": 4,
 "nbformat_minor": 1
}
